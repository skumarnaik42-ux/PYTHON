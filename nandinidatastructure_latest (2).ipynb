{
  "nbformat": 4,
  "nbformat_minor": 0,
  "metadata": {
    "colab": {
      "provenance": []
    },
    "kernelspec": {
      "name": "python3",
      "display_name": "Python 3"
    },
    "language_info": {
      "name": "python"
    }
  },
  "cells": [
    {
      "cell_type": "markdown",
      "source": [],
      "metadata": {
        "id": "gn6pYHDcz47x"
      }
    },
    {
      "cell_type": "markdown",
      "source": [
        "# Q1.What are data structures and why are they important?\n",
        "Data structures are specific formats for organizing and storing data in a computer, allowing for efficient data processing, retrieval, and management. They are important because they improve the performance of algorithms, save memory, and simplify the understanding and manipulation of data for both humans and machines, making them fundamental to all software systems"
      ],
      "metadata": {
        "id": "xttxOeyhfwVj"
      }
    },
    {
      "cell_type": "markdown",
      "source": [
        "Q2**.difference between mutable and immutable data types with examples.**\n",
        "\n",
        "The difference between mutable and immutable data types lies in whether their state can be changed after they are created.\n",
        "Mutable Data Types:\n",
        "Definition: Mutable data types are those whose values or contents can be modified after they have been initialized. You can change, add, or remove elements within the existing object without creating a new one.\n",
        "Examples (in Python):"
      ],
      "metadata": {
        "id": "qrVFnheegRHL"
      }
    },
    {
      "cell_type": "code",
      "source": [
        "# list\n",
        "my_list=[1,2,3,4]\n",
        "my_list.append(5)\n",
        "print(my_list)\n",
        ""
      ],
      "metadata": {
        "colab": {
          "base_uri": "https://localhost:8080/"
        },
        "id": "W7CHL8yVh2MZ",
        "outputId": "7ea351a0-0cd4-4b53-86f4-f57e671b5baa"
      },
      "execution_count": 1,
      "outputs": [
        {
          "output_type": "stream",
          "name": "stdout",
          "text": [
            "[1, 2, 3, 4, 5]\n"
          ]
        }
      ]
    },
    {
      "cell_type": "markdown",
      "source": [
        "**Immutable Data Types**:\n",
        "Definition: Immutable data types are those whose values or contents cannot be altered once they have been created. Any operation that appears to modify an immutable object actually results in the creation of a new object with the desired changes.\n"
      ],
      "metadata": {
        "id": "IGD3fBcGirg9"
      }
    },
    {
      "cell_type": "code",
      "source": [
        "my_tuple = (10, 20, 30)\n",
        "# Trying to change a value will raise an error\n",
        "# my_tuple[0] = 100\n",
        "# This will cause TypeError\n",
        "print(my_tuple)\n"
      ],
      "metadata": {
        "colab": {
          "base_uri": "https://localhost:8080/"
        },
        "id": "LVW6wnZulg_K",
        "outputId": "2879d973-f268-47bc-9186-07a519be52f3"
      },
      "execution_count": 9,
      "outputs": [
        {
          "output_type": "stream",
          "name": "stdout",
          "text": [
            "(10, 20, 30)\n"
          ]
        }
      ]
    },
    {
      "cell_type": "markdown",
      "source": [
        "3. What are the main differences between lists and tuples in Python?\n",
        "\n",
        "The main differences between lists and tuples in Python are centered around their mutability, performance, and typical use cases.\n",
        "a. Mutability:\n",
        "# Lists are mutable: This means their elements can be changed (added, removed, or modified) after the list has been created.\n",
        "\n",
        "Tuples:\n",
        "# tuples are immutable: Once a tuple is created, its elements cannot be changed. Attempting to modify a tuple will result in a TypeError.\n"
      ],
      "metadata": {
        "id": "zALto1F-mpmO"
      }
    },
    {
      "cell_type": "markdown",
      "source": [
        "4. Describe how dictionaries store data?\n",
        "\n",
        "Dictionaries in Python store data as key-value pairs, where each key is unique and\n",
        "immutable (such as a string, number, or tuple), while each value can be of any data type\n",
        "and can be duplicated."
      ],
      "metadata": {
        "id": "5cXaHl6Cq1CR"
      }
    },
    {
      "cell_type": "markdown",
      "source": [
        "5.Why might you use a set instead of a list in Python?\n",
        "\n",
        "Uniqueness: Sets automatically ensure all elements are unique and remove duplicates,\n",
        "while lists can contain duplicate values. This makes sets ideal when you need to store\n",
        "only distinct items.\n",
        "● Performance: Sets provide faster membership tests (checking if an element\n",
        "exists) with average time complexity of O(1) due to their hash table\n",
        "implementation, whereas lists have slower membership tests with O(n)\n",
        "complexity because they check each element sequentially.\n",
        "● Unordered Collection: Sets are unordered, so they do not maintain the insertion\n",
        "order of elements and do not support indexing. Lists maintain order and support\n",
        "indexing and slicing.\n",
        "● Mathematical Operations: Sets support mathematical set operations such as\n",
        "union, intersection, difference, and symmetric difference, which are very handy\n",
        "for tasks involving comparison or combination of collections."
      ],
      "metadata": {
        "id": "1CnF3LkxrJ9J"
      }
    },
    {
      "cell_type": "markdown",
      "source": [
        "6.What is a string in Python, and how is it different from a list?\n",
        "\n",
        "a.In Python, a string is a sequence of characters enclosed within single or double\n",
        "quotes (e.g., \"hello\" or 'world'). It is an immutable data type, which means once a\n",
        "string is created, its content cannot be changed.\n",
        "b.A list is a sequence of items, where each item can be of any data type such as\n",
        "string, number, or even another list. Lists are mutable, meaning their elements\n",
        "can be modified, added, or removed after creation."
      ],
      "metadata": {
        "id": "hjqISHB0rWpE"
      }
    },
    {
      "cell_type": "markdown",
      "source": [
        "7.How do tuples ensure data integrity in Python?\n",
        "\n",
        "a.In Python, a string is a sequence of characters enclosed within single or double\n",
        "quotes (e.g., \"hello\" or 'world'). It is an immutable data type, which means once a string\n",
        "is created, its content cannot be changed.\n",
        "b.A list is a sequence of items, where each item can be of any data type such as string,\n",
        "number, or even another list. Lists are mutable, meaning their elements can be modified,\n",
        "added, or removed after creation."
      ],
      "metadata": {
        "id": "sCDXRXoGreyX"
      }
    },
    {
      "cell_type": "markdown",
      "source": [
        "8. What is a hash table, and how does it relate to dictionaries in Python?\n",
        "\n",
        "a.\n",
        "A hash table is a data structure used to store key-value pairs for fast\n",
        "insertion, lookup, and deletion. It works by using a hash function that\n",
        "converts the key into a unique index, which determines where the\n",
        "corresponding value is stored in an array. This enables quick access to\n",
        "values regardless of the size of the collection. Hash tables handle\n",
        "situations where multiple keys map to the same index (called collisions)\n",
        "typically by methods like chaining or open addressing. The overall\n",
        "efficiency of hash tables makes them widely used in programming for\n",
        "tasks involving mapping and quick retrieval of data.\n",
        " b.\n",
        "In Python, dictionaries are the built-in implementation of hash tables.\n",
        "Python dictionaries use hash functions to convert keys into indices,\n",
        "allowing quick access to values via these keys. Each key in a Python\n",
        "dictionary must be hashable, meaning its hash value is consistent. Python\n",
        "dictionaries store key-value pairs in an underlying hash table structure,\n",
        "abstracting the complexities of hashing, handling collisions, and resizing\n",
        "from the user. This makes dictionaries very efficient for associative array\n",
        "operations and is the primary reason behind their speed and flexibility.\n",
        "Thus, Python dictionaries are a high-level, optimized implementation of the hash\n",
        "table concept."
      ],
      "metadata": {
        "id": "v_alrJEKuJQw"
      }
    },
    {
      "cell_type": "markdown",
      "source": [
        "1.Write a code to create a string with your name and print it."
      ],
      "metadata": {
        "id": "5pMYZ4FuDmiI"
      }
    },
    {
      "cell_type": "markdown",
      "source": [
        "9.Can lists contain different data types in Python?\n",
        "\n",
        "Yes, lists in Python can contain different data types. Python lists are heterogeneous,\n",
        "meaning they can hold elements of various types within the same list, such as integers,\n",
        "f\n",
        " loats, strings, booleans, other lists, tuples, and even dictionaries. This flexibility is a\n",
        "feature of Python’s dynamic typing system, where each element in a list is a reference to\n",
        "an object that can be of any type. Therefore, it is common and perfectly valid to have\n",
        "mixed data types in a single list."
      ],
      "metadata": {
        "id": "7IZqB2GNugU_"
      }
    },
    {
      "cell_type": "markdown",
      "source": [
        "10. Explain why strings are immutable in Python?\n",
        "\n",
        "Python strings are immutable, meaning that once a string object is created, its content cannot be changed. Any operation that appears to modify a string actually creates a new string object with the desired changes, and the original string remains untouched."
      ],
      "metadata": {
        "id": "nXe6FEiWupxE"
      }
    },
    {
      "cell_type": "markdown",
      "source": [
        "11.What advantages do dictionaries offer over lists for certain tasks?\n",
        "\n",
        "Dictionaries are ideal for tasks requiring quick lookups, data mappings, and key-value associations. Lists are suitable for ordered collections, sequential processing, and scenarios where the order of elements matters."
      ],
      "metadata": {
        "id": "fJfOvxxFvCRd"
      }
    },
    {
      "cell_type": "markdown",
      "source": [
        "12. Describe a scenario where using a tuple would be preferable over a list?\n",
        "\n",
        " Dictionaries are ideal for tasks requiring quick lookups, data mappings, and key-value associations. Lists are suitable for ordered collections, sequential processing, and scenarios where the order of elements matters."
      ],
      "metadata": {
        "id": "RekTEuajvRyD"
      }
    },
    {
      "cell_type": "markdown",
      "source": [
        "13. How do sets handle duplicate values in Python?\n",
        "\n",
        "\n",
        "In Python 3, sets inherently do not allow duplicate values. When you attempt to add an element that already exists in a set, the operation is simply ignored, and the set remains unchanged. The duplicate element is not stored.\n",
        "\n"
      ],
      "metadata": {
        "id": "f_xxSkGhwB0-"
      }
    },
    {
      "cell_type": "markdown",
      "source": [
        "14.“in” keyword work differently for lists and dictionaries?\n",
        "\n",
        "The in keyword in Python is used for membership testing, but its behavior differs for lists and dictionaries due to their underlying structures.\n",
        "#For Lists:\n",
        "When used with a list, the in keyword checks for the presence of a specific element within the list. It performs a linear search, iterating through each element of the list from beginning to end and comparing it to the target value. If a match is found, it returns True; otherwise, it returns False.\n",
        "\n",
        "#For dictionary\n",
        "When used with a dictionary, the in keyword checks for the presence of a specific key within the dictionary. It does not check for values directly. Dictionaries are implemented using hash tables, which allow for very efficient key lookups. If the key exists in the dictionary, it returns True; otherwise, it returns False."
      ],
      "metadata": {
        "id": "xwThCvRmyVYI"
      }
    },
    {
      "cell_type": "markdown",
      "source": [
        "15. Can you modify the elements of a tuple? Explain why or why not?\n",
        "\n",
        "Elements of a tuple cannot be modified because tuples are immutable data structures\n",
        "in Python. Immutability means once a tuple is created, its elements cannot be changed,\n",
        "added, or removed. This property ensures that the tuple remains fixed and\n",
        "unchangeable throughout its lifetime, unlike lists which are mutable and allow changes.\n",
        "If you try to modify a tuple element directly, Python will raise a TypeError indicating that\n",
        "item assignment is not supported. However, you can work around this by converting the\n",
        "tuple to a list, modifying the list, and then converting it back to a tuple. But technically,\n",
        "this creates a new tuple rather than modifying the original one.\n",
        "The immutability of tuples provides several benefits:\n",
        "● It guarantees that the data remains constant, making programs safer and more\n",
        "predictable.\n",
        "● Tuples can be used as keys in dictionaries or elements in sets because they are\n",
        "hashable.\n",
        "● It improves performance since Python can optimize access to immutable   \n",
        "objects."
      ],
      "metadata": {
        "id": "FoDQ0Oy_2lPO"
      }
    },
    {
      "cell_type": "markdown",
      "source": [
        "16.What is a nested dictionary, and give an example of its use can\n",
        "\n",
        "A nested dictionary is a dictionary that contains one or more dictionaries as its values.\n",
        "Essentially, it is a dictionary inside another dictionary. This structure allows you to\n",
        "organize complex or hierarchical data in a clean and structured manner.\n",
        "Explanation\n",
        "In programming, a dictionary is a collection of key-value pairs enclosed within curly\n",
        "braces {}. When the value for a key itself is another dictionary, this forms a nested\n",
        "dictionary. This is useful for representing data with multiple levels, like records\n",
        "containing multiple attributes or grouped information."
      ],
      "metadata": {
        "id": "NalG6izo3EKi"
      }
    },
    {
      "cell_type": "markdown",
      "source": [
        "17. Describe the time complexity of accessing elements in a dictionary?\n",
        "\n",
        "The time complexity of accessing elements in a dictionary, such as retrieving a value by its key or checking for key existence, is generally O(1) on average. This indicates constant time complexity, meaning the time taken for the operation does not significantly increase with the size of the dictionary.\n",
        "This efficiency is attributed to the internal implementation of dictionaries as hash tables. Hash tables utilize a hash function to map keys to specific memory locations, allowing for direct access to the corresponding values.\n",
        "However, in the worst-case scenario, if there are numerous hash collisions (where different keys produce the same hash value), the time complexity can degrade to O(n), where 'n' is the number of elements in the dictionary. This worst-case scenario is relatively rare due to well-designed hash functions and collision resolution strategies in most programming languages."
      ],
      "metadata": {
        "id": "PFRRBwEz3mhr"
      }
    },
    {
      "cell_type": "markdown",
      "source": [
        "18.In what situations are lists preferred over dictionaries?\n",
        "\n",
        "\n",
        "Lists are preferred over dictionaries in situations where:\n",
        "Order of elements is important: Lists maintain the insertion order of elements, allowing for operations that rely on sequence, such as accessing elements by their numerical index (e.g., the first, second, or last item).\n",
        "Sequential processing is needed: When iterating through a collection of items in a specific order, or performing operations on all items in a sequence, lists are a natural fit.\n",
        "Duplicate elements are allowed: Lists can store multiple instances of the same value, which is not possible with dictionary keys (which must be unique).\n",
        "Data is primarily accessed by numerical index: If elements are typically retrieved based on their position within the collection, lists offer efficient O(1) access time for index-based retrieval.\n",
        "Simple collections of similar items: For straightforward collections of related data where a key-value association is not necessary, lists provide a concise and efficient way to store and manage the data.\n",
        "Operations like appending and extending are frequent: Lists are designed for efficient modification at the end of the sequence, making them suitable for scenarios where elements are frequently added or removed from the end"
      ],
      "metadata": {
        "id": "Kjt3pmcK4QBv"
      }
    },
    {
      "cell_type": "markdown",
      "source": [
        "19.Why are dictionaries considered unordered, and how does that affect data retrieval?\n",
        "\n",
        "\n",
        "Dictionaries are considered \"unordered\" because, historically and by design, their primary purpose is fast, key-based access, not maintaining the order of insertion or any other sequence, though Python 3.7+ preserves insertion order as an implementation detail. This unordered nature means you cannot rely on a specific sequence when iterating or printing items, and data retrieval is always based on the unique key, not a positional index."
      ],
      "metadata": {
        "id": "NrJNxaTs4mQ_"
      }
    },
    {
      "cell_type": "markdown",
      "source": [
        "20.Explain the difference between a list and a dictionary in terms of data retrieval.\n",
        "\n",
        "+ In a list, data retrieval involves accessing elements by index, which is straightforward but linear in search\n",
        "time if the element’s position is unknown. In contrast, a dictionary allows access to data by key, offering\n",
        "faster retrieval regardless of element count."
      ],
      "metadata": {
        "id": "qpER--aI48Jf"
      }
    },
    {
      "cell_type": "code",
      "source": [],
      "metadata": {
        "id": "2E1grvYH3PpJ"
      },
      "execution_count": null,
      "outputs": []
    },
    {
      "cell_type": "code",
      "source": [],
      "metadata": {
        "id": "JwvDHjftla-C"
      },
      "execution_count": null,
      "outputs": []
    },
    {
      "cell_type": "code",
      "execution_count": 1,
      "metadata": {
        "colab": {
          "base_uri": "https://localhost:8080/"
        },
        "id": "UyBumEoEDYaX",
        "outputId": "e48169c4-1096-45a1-bdfc-2c1c134edeb0"
      },
      "outputs": [
        {
          "output_type": "stream",
          "name": "stdout",
          "text": [
            "santosh\n",
            "<class 'str'>\n"
          ]
        }
      ],
      "source": [
        "name=\"santosh\"\n",
        "print(name)\n",
        "print(type(name))"
      ]
    },
    {
      "cell_type": "markdown",
      "source": [
        "2.Write a code to find the length of the string \"Hello World\""
      ],
      "metadata": {
        "id": "fxCnVJsaFQoa"
      }
    },
    {
      "cell_type": "code",
      "source": [
        "text=\"Hello World\"\n",
        "print(len(\"Hello World\"))"
      ],
      "metadata": {
        "colab": {
          "base_uri": "https://localhost:8080/"
        },
        "id": "URgaEQP8FcRO",
        "outputId": "f1e9a974-0ff0-4c92-f930-fd714352874c"
      },
      "execution_count": null,
      "outputs": [
        {
          "output_type": "stream",
          "name": "stdout",
          "text": [
            "11\n"
          ]
        }
      ]
    },
    {
      "cell_type": "markdown",
      "source": [
        "3.Write a code to slice the first 3 characters from the string \"Python Programming\""
      ],
      "metadata": {
        "id": "KWJa6jvNQn-I"
      }
    },
    {
      "cell_type": "code",
      "source": [
        "s = \"Python Programming\"\n",
        "first_three = s[:3]\n",
        "print(first_three)"
      ],
      "metadata": {
        "colab": {
          "base_uri": "https://localhost:8080/"
        },
        "id": "wpZ7puV3QsrV",
        "outputId": "ecca434f-9745-4b7f-cee2-e6c6d20c2cb2"
      },
      "execution_count": null,
      "outputs": [
        {
          "output_type": "stream",
          "name": "stdout",
          "text": [
            "Pyt\n"
          ]
        }
      ]
    },
    {
      "cell_type": "code",
      "source": [
        "s=\"super market\"\n",
        "first_three = s[:3]\n",
        "print(first_three)"
      ],
      "metadata": {
        "colab": {
          "base_uri": "https://localhost:8080/"
        },
        "id": "qMU1AvmkRD0c",
        "outputId": "1d3fd8ab-fcc1-4a2c-b1f5-b4d6cdc3216b"
      },
      "execution_count": null,
      "outputs": [
        {
          "output_type": "stream",
          "name": "stdout",
          "text": [
            "sup\n"
          ]
        }
      ]
    },
    {
      "cell_type": "markdown",
      "source": [
        "4.Write a code to convert the string \"hello\" to uppercase."
      ],
      "metadata": {
        "id": "t-ArjrjmRr-M"
      }
    },
    {
      "cell_type": "code",
      "source": [
        "s=\"hello\"\n",
        "upper_s= s.upper()\n",
        "print(upper_s)"
      ],
      "metadata": {
        "colab": {
          "base_uri": "https://localhost:8080/"
        },
        "id": "9EUxrvU1R5SJ",
        "outputId": "d8e201ce-a8a3-418a-8a96-9b5a23676495"
      },
      "execution_count": null,
      "outputs": [
        {
          "output_type": "stream",
          "name": "stdout",
          "text": [
            "HELLO\n"
          ]
        }
      ]
    },
    {
      "cell_type": "markdown",
      "source": [
        "5.Write a code to replace the word \"apple\" with \"orange\" in the string \"I like apple\""
      ],
      "metadata": {
        "id": "5xIhC3_-USi0"
      }
    },
    {
      "cell_type": "code",
      "source": [
        "s = \"I like apple\"\n",
        "new_s = s.replace(\"apple\", \"orange\")\n",
        "print(new_s)"
      ],
      "metadata": {
        "colab": {
          "base_uri": "https://localhost:8080/"
        },
        "id": "j-U3jpNqU9C9",
        "outputId": "f1d15476-3dee-4ad6-dbca-f224e4c65f4c"
      },
      "execution_count": null,
      "outputs": [
        {
          "output_type": "stream",
          "name": "stdout",
          "text": [
            "I like orange\n"
          ]
        }
      ]
    },
    {
      "cell_type": "markdown",
      "source": [
        "6. Write a code to create a list with numbers 1 to 5 and print it."
      ],
      "metadata": {
        "id": "qOChQ5NSVkQf"
      }
    },
    {
      "cell_type": "code",
      "source": [
        "numbers = [1, 2, 3, 4, 5]\n",
        "print(numbers)\n"
      ],
      "metadata": {
        "colab": {
          "base_uri": "https://localhost:8080/"
        },
        "id": "oBbMjIWVVtuQ",
        "outputId": "57e732c1-9572-4896-8d3e-53f44c9b819e"
      },
      "execution_count": null,
      "outputs": [
        {
          "output_type": "stream",
          "name": "stdout",
          "text": [
            "[1, 2, 3, 4, 5]\n"
          ]
        }
      ]
    },
    {
      "cell_type": "markdown",
      "source": [
        "7.Write a code to append the number 10 to the list [1, 2, 3, 4]\n",
        "\n"
      ],
      "metadata": {
        "id": "A66tskz-V78D"
      }
    },
    {
      "cell_type": "code",
      "source": [
        "numbers=[1,2,3,4]\n",
        "numbers.append(10)\n",
        "print(numbers)"
      ],
      "metadata": {
        "colab": {
          "base_uri": "https://localhost:8080/"
        },
        "id": "nX4oB4WAWn1o",
        "outputId": "4dac9630-bc48-41b2-b9b2-e9e4803bfdf3"
      },
      "execution_count": null,
      "outputs": [
        {
          "output_type": "stream",
          "name": "stdout",
          "text": [
            "[1, 2, 3, 4, 10]\n"
          ]
        }
      ]
    },
    {
      "cell_type": "markdown",
      "source": [
        "8. Write a code to remove the number 3 from the list [1, 2, 3, 4, 5]"
      ],
      "metadata": {
        "id": "YJvJcMvqW9nu"
      }
    },
    {
      "cell_type": "code",
      "source": [
        "numbers=[1,2,3,4,5]\n",
        "numbers.remove(3)\n",
        "print(numbers)"
      ],
      "metadata": {
        "colab": {
          "base_uri": "https://localhost:8080/"
        },
        "id": "ZRPGPRYYXLN5",
        "outputId": "0cf0ae54-58b8-4697-a5e1-8aadeb841b7a"
      },
      "execution_count": null,
      "outputs": [
        {
          "output_type": "stream",
          "name": "stdout",
          "text": [
            "[1, 2, 4, 5]\n"
          ]
        }
      ]
    },
    {
      "cell_type": "markdown",
      "source": [
        "9.Write a code to access the second element in the list ['a', 'b', 'c', 'd']"
      ],
      "metadata": {
        "id": "WljigcCpX-t0"
      }
    },
    {
      "cell_type": "code",
      "source": [
        "my_list = ['a', 'b', 'c', 'd']\n",
        "second_element = my_list[1]\n",
        "print(second_element)\n"
      ],
      "metadata": {
        "colab": {
          "base_uri": "https://localhost:8080/"
        },
        "id": "N0fI3AflYtQ3",
        "outputId": "65e022d4-03e0-4136-d490-9ecd11a855b9"
      },
      "execution_count": null,
      "outputs": [
        {
          "output_type": "stream",
          "name": "stdout",
          "text": [
            "b\n"
          ]
        }
      ]
    },
    {
      "cell_type": "code",
      "source": [
        "my_list = ['a', 'b', 'c', 'd']\n",
        "second_element = my_list[1]\n",
        "print(second_element)"
      ],
      "metadata": {
        "colab": {
          "base_uri": "https://localhost:8080/"
        },
        "id": "TtETEixTY2RG",
        "outputId": "375e629d-b333-4c02-f8ea-0fa6a299658d"
      },
      "execution_count": null,
      "outputs": [
        {
          "output_type": "stream",
          "name": "stdout",
          "text": [
            "b\n"
          ]
        }
      ]
    },
    {
      "cell_type": "markdown",
      "source": [
        "10. Write a code to reverse the list [10, 20, 30, 40, 50]."
      ],
      "metadata": {
        "id": "48mBIUpjZXh-"
      }
    },
    {
      "cell_type": "code",
      "source": [
        "numbers = [10, 20, 30, 40, 50]\n",
        "numbers.reverse()\n",
        "print(numbers)\n"
      ],
      "metadata": {
        "colab": {
          "base_uri": "https://localhost:8080/"
        },
        "id": "BFKqSpAyZf1s",
        "outputId": "2d3d08aa-6bb3-470d-dfd7-aacb08d05adc"
      },
      "execution_count": null,
      "outputs": [
        {
          "output_type": "stream",
          "name": "stdout",
          "text": [
            "[50, 40, 30, 20, 10]\n"
          ]
        }
      ]
    },
    {
      "cell_type": "markdown",
      "source": [
        "11. Write a code to create a tuple with the elements 100, 200, 300 and print it."
      ],
      "metadata": {
        "id": "rBtlaR2SZy5V"
      }
    },
    {
      "cell_type": "code",
      "source": [
        "my_tuple = (100, 200, 300)\n",
        "print(my_tuple)\n"
      ],
      "metadata": {
        "colab": {
          "base_uri": "https://localhost:8080/"
        },
        "id": "7KMXQ8giZ8is",
        "outputId": "fc0c9847-0186-4c17-9a0f-19832169b827"
      },
      "execution_count": null,
      "outputs": [
        {
          "output_type": "stream",
          "name": "stdout",
          "text": [
            "(100, 200, 300)\n"
          ]
        }
      ]
    },
    {
      "cell_type": "markdown",
      "source": [
        "12. Write a code to access the second-to-last element of the tuple ('red', 'green', 'blue', 'yellow')."
      ],
      "metadata": {
        "id": "CSjBD11zaFPq"
      }
    },
    {
      "cell_type": "code",
      "source": [
        "my_tuple = ('red', 'green', 'blue', 'yellow')\n",
        "second_last_element = my_tuple[-2]\n",
        "print(second_last_element)\n"
      ],
      "metadata": {
        "colab": {
          "base_uri": "https://localhost:8080/"
        },
        "id": "95H9iEoSaK6n",
        "outputId": "54499f43-71af-4f02-dec7-3c52d4efdae1"
      },
      "execution_count": null,
      "outputs": [
        {
          "output_type": "stream",
          "name": "stdout",
          "text": [
            "blue\n"
          ]
        }
      ]
    },
    {
      "cell_type": "markdown",
      "source": [
        "13. Write a code to find the minimum number in the tuple (10, 20, 5, 15)"
      ],
      "metadata": {
        "id": "_0YsivjpaYnV"
      }
    },
    {
      "cell_type": "code",
      "source": [
        "my_tuple = (10, 20, 5, 15)\n",
        "minimum_number = min(my_tuple)\n",
        "print(minimum_number)\n"
      ],
      "metadata": {
        "colab": {
          "base_uri": "https://localhost:8080/"
        },
        "id": "rdUN-Zf9aqUv",
        "outputId": "7b9c0443-6bb6-4014-eecf-f2f60d974f06"
      },
      "execution_count": null,
      "outputs": [
        {
          "output_type": "stream",
          "name": "stdout",
          "text": [
            "5\n"
          ]
        }
      ]
    },
    {
      "cell_type": "markdown",
      "source": [
        "14. Write a code to find the index of the element \"cat\" in the tuple ('dog', 'cat', 'rabbit')."
      ],
      "metadata": {
        "id": "epnxm5eya1uH"
      }
    },
    {
      "cell_type": "code",
      "source": [
        "my_tuple = ('dog', 'cat', 'rabbit')\n",
        "index_of_cat = my_tuple.index('cat')\n",
        "print(index_of_cat)\n"
      ],
      "metadata": {
        "colab": {
          "base_uri": "https://localhost:8080/"
        },
        "id": "e5uZrQ2na8JS",
        "outputId": "c0bc0287-8478-4ffe-d9c2-ea5b5dab80d1"
      },
      "execution_count": null,
      "outputs": [
        {
          "output_type": "stream",
          "name": "stdout",
          "text": [
            "1\n"
          ]
        }
      ]
    },
    {
      "cell_type": "markdown",
      "source": [
        "15. Write a code to create a tuple containing three different fruits and check if \"kiwi\" is in it."
      ],
      "metadata": {
        "id": "VSiP9OrhbI6X"
      }
    },
    {
      "cell_type": "code",
      "source": [
        "fruits = ('apple', 'banana', 'orange')\n",
        "if 'kiwi' in fruits:\n",
        "    print(\"Kiwi is in the tuple.\")\n",
        "else:\n",
        "    print(\"Kiwi is not in the tuple.\")\n"
      ],
      "metadata": {
        "colab": {
          "base_uri": "https://localhost:8080/"
        },
        "id": "B1jwlUEYbPaV",
        "outputId": "94537ed2-e16d-4c31-c92a-47031432e969"
      },
      "execution_count": null,
      "outputs": [
        {
          "output_type": "stream",
          "name": "stdout",
          "text": [
            "Kiwi is not in the tuple.\n"
          ]
        }
      ]
    },
    {
      "cell_type": "markdown",
      "source": [
        "16. Write a code to create a set with the elements 'a', 'b', 'c' and print it."
      ],
      "metadata": {
        "id": "XNZude_zbcr0"
      }
    },
    {
      "cell_type": "code",
      "source": [
        "my_set = {'a', 'b', 'c'}\n",
        "print(my_set)\n"
      ],
      "metadata": {
        "colab": {
          "base_uri": "https://localhost:8080/"
        },
        "id": "TBwmqrxaboSM",
        "outputId": "ece8bf52-f8f1-4520-d41b-e1bf96249b4f"
      },
      "execution_count": null,
      "outputs": [
        {
          "output_type": "stream",
          "name": "stdout",
          "text": [
            "{'a', 'c', 'b'}\n"
          ]
        }
      ]
    },
    {
      "cell_type": "markdown",
      "source": [
        "17. Write a code to clear all elements from the set {1, 2, 3, 4, 5}."
      ],
      "metadata": {
        "id": "7jeV1YOCbvvN"
      }
    },
    {
      "cell_type": "code",
      "source": [
        "my_set = {1, 2, 3, 4, 5}\n",
        "my_set.clear()\n",
        "print(my_set)\n"
      ],
      "metadata": {
        "colab": {
          "base_uri": "https://localhost:8080/"
        },
        "id": "g_uNA9jBb7US",
        "outputId": "71dba2c8-17ee-4113-bb54-6adecd296731"
      },
      "execution_count": null,
      "outputs": [
        {
          "output_type": "stream",
          "name": "stdout",
          "text": [
            "set()\n"
          ]
        }
      ]
    },
    {
      "cell_type": "markdown",
      "source": [
        "18. Write a code to remove the element 4 from the set {1, 2, 3, 4}."
      ],
      "metadata": {
        "id": "SuiNPROgcABh"
      }
    },
    {
      "cell_type": "code",
      "source": [
        "my_set = {1, 2, 3, 4}\n",
        "my_set.remove(4)\n",
        "print(my_set)\n"
      ],
      "metadata": {
        "colab": {
          "base_uri": "https://localhost:8080/"
        },
        "id": "cPr_xukKcGXc",
        "outputId": "88ec5fd2-8b66-4d04-b47a-36ad67dbe357"
      },
      "execution_count": null,
      "outputs": [
        {
          "output_type": "stream",
          "name": "stdout",
          "text": [
            "{1, 2, 3}\n"
          ]
        }
      ]
    },
    {
      "cell_type": "markdown",
      "source": [
        "19. Write a code to find the union of two sets {1, 2, 3} and {3, 4, 5}."
      ],
      "metadata": {
        "id": "mcnrBIo0cO5O"
      }
    },
    {
      "cell_type": "code",
      "source": [
        "set1 = {1, 2, 3}\n",
        "set2 = {3, 4, 5}\n",
        "\n",
        "# Using union() method\n",
        "union_set = set1.union(set2)\n",
        "print(union_set)\n",
        "\n",
        "# Using | operator\n",
        "union_set_operator = set1 | set2\n",
        "print(union_set_operator)\n"
      ],
      "metadata": {
        "colab": {
          "base_uri": "https://localhost:8080/"
        },
        "id": "kosc_bRJcUev",
        "outputId": "3ab86598-645c-49cf-9415-7d69f0730d77"
      },
      "execution_count": null,
      "outputs": [
        {
          "output_type": "stream",
          "name": "stdout",
          "text": [
            "{1, 2, 3, 4, 5}\n",
            "{1, 2, 3, 4, 5}\n"
          ]
        }
      ]
    },
    {
      "cell_type": "markdown",
      "source": [
        "20. Write a code to find the intersection of two sets {1, 2, 3} and {2, 3, 4}."
      ],
      "metadata": {
        "id": "-jd3dFfychbR"
      }
    },
    {
      "cell_type": "code",
      "source": [
        "set1 = {1, 2, 3}\n",
        "set2 = {2, 3, 4}\n",
        "\n",
        "# Using intersection() method\n",
        "intersection_set = set1.intersection(set2)\n",
        "print(intersection_set)\n",
        "\n",
        "# Using & operator\n",
        "intersection_set_operator = set1 & set2\n",
        "print(intersection_set_operator)\n"
      ],
      "metadata": {
        "colab": {
          "base_uri": "https://localhost:8080/"
        },
        "id": "RKY9H4KhcrVU",
        "outputId": "64063673-7614-45af-e695-7632d332391e"
      },
      "execution_count": null,
      "outputs": [
        {
          "output_type": "stream",
          "name": "stdout",
          "text": [
            "{2, 3}\n",
            "{2, 3}\n"
          ]
        }
      ]
    },
    {
      "cell_type": "markdown",
      "source": [
        "21. Write a code to create a dictionary with the keys \"name\", \"age\", and \"city\", and print it."
      ],
      "metadata": {
        "id": "vppq8lyuc3dh"
      }
    },
    {
      "cell_type": "code",
      "source": [
        "my_dict = {\n",
        "    \"name\": \"Alice\",\n",
        "    \"age\": 30,\n",
        "    \"city\": \"New York\"\n",
        "}\n",
        "print(my_dict)\n"
      ],
      "metadata": {
        "colab": {
          "base_uri": "https://localhost:8080/"
        },
        "id": "MumVfNChdDK7",
        "outputId": "717f554d-7bae-4b21-a476-d54b6ccb226b"
      },
      "execution_count": null,
      "outputs": [
        {
          "output_type": "stream",
          "name": "stdout",
          "text": [
            "{'name': 'Alice', 'age': 30, 'city': 'New York'}\n"
          ]
        }
      ]
    },
    {
      "cell_type": "code",
      "source": [],
      "metadata": {
        "id": "fWHJW6IGcuhM"
      },
      "execution_count": null,
      "outputs": []
    },
    {
      "cell_type": "markdown",
      "source": [
        "22. Write a code to add a new key-value pair \"country\": \"USA\" to the dictionary {'name': 'John', 'age': 25}."
      ],
      "metadata": {
        "id": "UNQ2JdXmTzZI"
      }
    },
    {
      "cell_type": "code",
      "source": [
        "person = {'name': 'John', 'age': 25}\n",
        "person['country'] = 'USA'\n",
        "print(person)\n"
      ],
      "metadata": {
        "colab": {
          "base_uri": "https://localhost:8080/"
        },
        "id": "WiRn34dFT5cO",
        "outputId": "e8944d5f-baae-4c55-f4d3-c8c550fa5555"
      },
      "execution_count": null,
      "outputs": [
        {
          "output_type": "stream",
          "name": "stdout",
          "text": [
            "{'name': 'John', 'age': 25, 'country': 'USA'}\n"
          ]
        }
      ]
    },
    {
      "cell_type": "code",
      "source": [
        "person={'name':'john','age':25}\n",
        "person['country']='USA'\n",
        "print(person)"
      ],
      "metadata": {
        "colab": {
          "base_uri": "https://localhost:8080/"
        },
        "id": "36Du6f7JUkmx",
        "outputId": "4d4e15da-e21d-44d8-9545-1654ab7a584e"
      },
      "execution_count": null,
      "outputs": [
        {
          "output_type": "stream",
          "name": "stdout",
          "text": [
            "{'name': 'john', 'age': 25, 'country': 'USA'}\n"
          ]
        }
      ]
    },
    {
      "cell_type": "markdown",
      "source": [
        "23. Write a code to access the value associated with the key \"name\" in the dictionary {'name': 'Alice', 'age': 30}."
      ],
      "metadata": {
        "id": "YhgSeLflVU0K"
      }
    },
    {
      "cell_type": "code",
      "source": [
        "person = {'name': 'Alice', 'age': 30}\n",
        "name_value = person['name']\n",
        "print(name_value)"
      ],
      "metadata": {
        "colab": {
          "base_uri": "https://localhost:8080/"
        },
        "id": "F7F0j88nVcKG",
        "outputId": "6c409169-cfba-4a73-d2cf-9189565d93e3"
      },
      "execution_count": null,
      "outputs": [
        {
          "output_type": "stream",
          "name": "stdout",
          "text": [
            "Alice\n"
          ]
        }
      ]
    },
    {
      "cell_type": "markdown",
      "source": [
        "24. Write a code to remove the key \"age\" from the dictionary {'name': 'Bob', 'age': 22, 'city': 'New York'}.\n",
        "\n"
      ],
      "metadata": {
        "id": "k7znUOQwV3RJ"
      }
    },
    {
      "cell_type": "code",
      "source": [
        "person = {'name': 'Bob', 'age': 22, 'city': 'New York'}\n",
        "del person['age']\n",
        "print(person)"
      ],
      "metadata": {
        "colab": {
          "base_uri": "https://localhost:8080/"
        },
        "id": "OVjZjrcpV_wj",
        "outputId": "c5bfed69-141a-4826-ca9b-74010f6af1dd"
      },
      "execution_count": null,
      "outputs": [
        {
          "output_type": "stream",
          "name": "stdout",
          "text": [
            "{'name': 'Bob', 'city': 'New York'}\n"
          ]
        }
      ]
    },
    {
      "cell_type": "code",
      "source": [
        "person={'name':'bob','age':22,'city':'new york'}\n",
        "remove=person.pop('age')\n",
        "print(person)"
      ],
      "metadata": {
        "colab": {
          "base_uri": "https://localhost:8080/"
        },
        "id": "2jW3_2AUXSEq",
        "outputId": "1347b8c0-cbbd-4621-d805-98cfbe28b46e"
      },
      "execution_count": null,
      "outputs": [
        {
          "output_type": "stream",
          "name": "stdout",
          "text": [
            "{'name': 'bob', 'city': 'new york'}\n"
          ]
        }
      ]
    },
    {
      "cell_type": "markdown",
      "source": [
        "25. Write a code to check if the key \"city\" exists in the dictionary {'name': 'Alice', 'city': 'Paris'}.\n",
        "\n"
      ],
      "metadata": {
        "id": "7SxFQ0yoXiTf"
      }
    },
    {
      "cell_type": "code",
      "source": [
        "person = {'name': 'Alice', 'city': 'Paris'}\n",
        "if 'city' in person:\n",
        "    print(\"Key 'city' exists in the dictionary.\")\n",
        "else:\n",
        "    print(\"Key 'city' does not exist in the dictionary.\")\n"
      ],
      "metadata": {
        "colab": {
          "base_uri": "https://localhost:8080/"
        },
        "id": "MLxJ_nPeXrWr",
        "outputId": "105b9f55-7d2d-4a45-a7e3-b0e02b534170"
      },
      "execution_count": null,
      "outputs": [
        {
          "output_type": "stream",
          "name": "stdout",
          "text": [
            "Key 'city' exists in the dictionary.\n"
          ]
        }
      ]
    },
    {
      "cell_type": "code",
      "source": [
        "person={'name':'alice','city':'paris'}\n",
        "if 'city'in person:\n",
        "  print(\"key 'city' is exists\")\n",
        "else:\n",
        "  print(\"key'city' does not exist\")"
      ],
      "metadata": {
        "colab": {
          "base_uri": "https://localhost:8080/"
        },
        "id": "wg4gV0vFYKoh",
        "outputId": "59ded49e-a9a5-4e2f-9ba5-f7e0b3f48669"
      },
      "execution_count": null,
      "outputs": [
        {
          "output_type": "stream",
          "name": "stdout",
          "text": [
            "key 'city' is exists\n"
          ]
        }
      ]
    },
    {
      "cell_type": "markdown",
      "source": [
        "26. Write a code to create a list, a tuple, and a dictionary, and print them all."
      ],
      "metadata": {
        "id": "64pZIRxmZ3Lz"
      }
    },
    {
      "cell_type": "code",
      "source": [
        "# Creating a list\n",
        "my_list = [1, 2, 3, 4, 5]\n",
        "\n",
        "# Creating a tuple\n",
        "my_tuple = (10, 20, 30, 40, 50)\n",
        "\n",
        "# Creating a dictionary\n",
        "my_dict = {'name': 'John', 'age': 25, 'city': 'New York'}\n",
        "\n",
        "# Printing all\n",
        "print(\"List:\", my_list)\n",
        "print(\"Tuple:\", my_tuple)\n",
        "print(\"Dictionary:\", my_dict)\n"
      ],
      "metadata": {
        "colab": {
          "base_uri": "https://localhost:8080/"
        },
        "id": "3BS8z6FbZ8_o",
        "outputId": "a504447b-568b-4cab-94b6-8e8aaae67e6e"
      },
      "execution_count": null,
      "outputs": [
        {
          "output_type": "stream",
          "name": "stdout",
          "text": [
            "List: [1, 2, 3, 4, 5]\n",
            "Tuple: (10, 20, 30, 40, 50)\n",
            "Dictionary: {'name': 'John', 'age': 25, 'city': 'New York'}\n"
          ]
        }
      ]
    },
    {
      "cell_type": "markdown",
      "source": [
        "27. Write a code to create a list of 5 random numbers between 1 and 100, sort it in ascending order, and print the\n",
        "result.(replaced)"
      ],
      "metadata": {
        "id": "vqAcy95wajm7"
      }
    },
    {
      "cell_type": "code",
      "source": [
        "import random\n",
        "\n",
        "# Create a list of 5 random numbers between 1 and 100\n",
        "random_numbers = [random.randint(1, 100) for _ in range(5)]\n",
        "\n",
        "# Sort the list in ascending order\n",
        "random_numbers.sort()\n",
        "\n",
        "# Print the sorted list\n",
        "print(random_numbers)"
      ],
      "metadata": {
        "colab": {
          "base_uri": "https://localhost:8080/"
        },
        "id": "Z26DFamCb3rg",
        "outputId": "ae00511f-ab3c-4837-9e6b-924a2949ef31"
      },
      "execution_count": null,
      "outputs": [
        {
          "output_type": "stream",
          "name": "stdout",
          "text": [
            "[21, 42, 54, 60, 65]\n"
          ]
        }
      ]
    },
    {
      "cell_type": "code",
      "source": [
        "import random\n",
        "\n",
        "# creat a loist of 5 random numbers between 1 and 100\n",
        "random_numbers = [random.randint(1,100) for _ in range (5)]\n",
        "\n",
        "# sort the list in ascending order\n",
        "random_numbers.sort()\n",
        "\n",
        "# print the sorted list\n",
        "print(random_numbers)"
      ],
      "metadata": {
        "colab": {
          "base_uri": "https://localhost:8080/"
        },
        "id": "EEXHqEBTcFuV",
        "outputId": "3bcc68c1-4f66-43dd-c459-970d7b74356a"
      },
      "execution_count": null,
      "outputs": [
        {
          "output_type": "stream",
          "name": "stdout",
          "text": [
            "[6, 7, 40, 56, 66]\n"
          ]
        }
      ]
    },
    {
      "cell_type": "markdown",
      "source": [
        "28. Write a code to create a list with strings and print the element at the third index.\n",
        "\n"
      ],
      "metadata": {
        "id": "B2bQGdjHedIu"
      }
    },
    {
      "cell_type": "code",
      "source": [
        "# Create a list with strings\n",
        "my_list = ['apple', 'banana', 'cherry', 'date', 'elderberry']\n",
        "\n",
        "# Print the element at the third index\n",
        "print(my_list[3])\n"
      ],
      "metadata": {
        "colab": {
          "base_uri": "https://localhost:8080/"
        },
        "id": "BlbhT6eths6U",
        "outputId": "f972226a-c741-4b5a-dd15-a71bf0152e0b"
      },
      "execution_count": null,
      "outputs": [
        {
          "output_type": "stream",
          "name": "stdout",
          "text": [
            "date\n"
          ]
        }
      ]
    },
    {
      "cell_type": "markdown",
      "source": [
        "29. Write a code to combine two dictionaries into one and print the result."
      ],
      "metadata": {
        "id": "r8jQmioEhyVp"
      }
    },
    {
      "cell_type": "code",
      "source": [
        "# Creating two dictionaries\n",
        "dict1 = {'name': 'John', 'age': 25}\n",
        "dict2 = {'city': 'New York', 'country': 'USA'}\n",
        "\n",
        "# Method 1: Using update() method (modifies dict1)\n",
        "dict1.update(dict2)\n",
        "print(\"Combined dictionary using update():\", dict1)\n"
      ],
      "metadata": {
        "colab": {
          "base_uri": "https://localhost:8080/"
        },
        "id": "nmFYpn-UiAxv",
        "outputId": "b6b76889-cefb-4561-e47a-eb8b4a52d153"
      },
      "execution_count": null,
      "outputs": [
        {
          "output_type": "stream",
          "name": "stdout",
          "text": [
            "Combined dictionary using update(): {'name': 'John', 'age': 25, 'city': 'New York', 'country': 'USA'}\n"
          ]
        }
      ]
    },
    {
      "cell_type": "markdown",
      "source": [
        "30. Write a code to convert a list of strings into a set."
      ],
      "metadata": {
        "id": "fjKGkNvLiIWl"
      }
    },
    {
      "cell_type": "code",
      "source": [
        "# creat a list of strings\n",
        "my_list = ['apple','banana','apple','cherry','banana']\n",
        "\n",
        "# convert the list to a set\n",
        "my_set = set(my_list)\n",
        "\n",
        "# print the set\n",
        "print(my_set)"
      ],
      "metadata": {
        "colab": {
          "base_uri": "https://localhost:8080/"
        },
        "id": "pg-Q_NIwifMo",
        "outputId": "1be41dd3-e392-416a-f44c-5d4a8a137194"
      },
      "execution_count": null,
      "outputs": [
        {
          "output_type": "stream",
          "name": "stdout",
          "text": [
            "{'cherry', 'apple', 'banana'}\n"
          ]
        }
      ]
    }
  ]
}